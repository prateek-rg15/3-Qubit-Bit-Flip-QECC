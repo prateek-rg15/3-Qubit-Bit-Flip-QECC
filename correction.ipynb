{
 "cells": [
  {
   "cell_type": "code",
   "execution_count": 76,
   "id": "a0b0dbc3",
   "metadata": {},
   "outputs": [],
   "source": [
    "import numpy as np\n",
    "from numpy import pi\n",
    "\n",
    "# Importing standard Qiskit libraries\n",
    "from qiskit import QuantumCircuit, transpile, assemble, Aer, IBMQ, execute\n",
    "from qiskit.quantum_info import Statevector\n",
    "from qiskit.visualization import plot_bloch_multivector, plot_histogram\n",
    "\n",
    "import numpy as np\n",
    "from qiskit import QuantumCircuit, transpile\n",
    "from qiskit.quantum_info import Kraus, SuperOp\n",
    "from qiskit.providers.aer import AerSimulator\n",
    "from qiskit.tools.visualization import plot_histogram\n",
    "\n",
    "# Import from Qiskit Aer noise module\n",
    "from qiskit.providers.aer.noise import NoiseModel\n",
    "from qiskit.providers.aer.noise import QuantumError, ReadoutError\n",
    "from qiskit.providers.aer.noise import pauli_error\n",
    "from qiskit.providers.aer.noise import depolarizing_error\n",
    "from qiskit.providers.aer.noise import thermal_relaxation_error"
   ]
  },
  {
   "cell_type": "markdown",
   "id": "02522bde",
   "metadata": {},
   "source": [
    "# Single qubit measurement with no noise"
   ]
  },
  {
   "cell_type": "code",
   "execution_count": 77,
   "id": "f2f63887",
   "metadata": {},
   "outputs": [
    {
     "data": {
      "text/html": [
       "<pre style=\"word-wrap: normal;white-space: pre;background: #fff0;line-height: 1.1;font-family: &quot;Courier New&quot;,Courier,monospace\">     \n",
       "  q: \n",
       "     \n",
       "c: 1/\n",
       "     </pre>"
      ],
      "text/plain": [
       "     \n",
       "  q: \n",
       "     \n",
       "c: 1/\n",
       "     "
      ]
     },
     "execution_count": 77,
     "metadata": {},
     "output_type": "execute_result"
    }
   ],
   "source": [
    "# single qubit circuit\n",
    "# initially the state of qubit is 0\n",
    "\n",
    "qc0 = QuantumCircuit(1,1)\n",
    "qc0.draw()\n"
   ]
  },
  {
   "cell_type": "code",
   "execution_count": 78,
   "id": "d4ccc2ed",
   "metadata": {},
   "outputs": [
    {
     "data": {
      "image/png": "[encoded data removed]",
      "text/plain": [
       "<Figure size 504x360 with 1 Axes>"
      ]
     },
     "execution_count": 78,
     "metadata": {},
     "output_type": "execute_result"
    }
   ],
   "source": [
    "qc0.measure(0,0)\n",
    "backend = Aer.get_backend('qasm_simulator') # we choose the simulator as our backend\n",
    "counts = execute(qc0, backend, shots = 1000).result().get_counts() # we run the simulation and get the counts\n",
    "plot_histogram(counts)"
   ]
  },
  {
   "cell_type": "markdown",
   "id": "bb4a8398",
   "metadata": {},
   "source": [
    "# Adding bit-flip noise channel"
   ]
  },
  {
   "cell_type": "code",
   "execution_count": 79,
   "id": "2f429c2a",
   "metadata": {},
   "outputs": [
    {
     "name": "stdout",
     "output_type": "stream",
     "text": [
      "NoiseModel:\n",
      "  Basis gates: ['cx', 'id', 'rz', 'sx', 'u1', 'u2', 'u3']\n",
      "  Instructions with noise: ['u1', 'u3', 'u2']\n",
      "  All-qubits errors: ['u1', 'u2', 'u3']\n"
     ]
    }
   ],
   "source": [
    "#building a noisy bit flip channel\n",
    "\n",
    "qc= QuantumCircuit(1,1)\n",
    "qc.x(0)\n",
    "p_gate1 = 0.1  #bit flip probability\n",
    "\n",
    "# QuantumError objects\n",
    "\n",
    "error_gate1 = pauli_error([('X',1-p_gate1), ('I', p_gate1)])\n",
    "\n",
    "\n",
    "# Add errors to noise model\n",
    "noise_bit_flip = NoiseModel()\n",
    "\n",
    "noise_bit_flip.add_all_qubit_quantum_error(error_gate1, [\"u1\", \"u2\", \"u3\"])\n",
    "print(noise_bit_flip)"
   ]
  },
  {
   "cell_type": "code",
   "execution_count": 80,
   "id": "52fb17f0",
   "metadata": {},
   "outputs": [
    {
     "data": {
      "text/html": [
       "<pre style=\"word-wrap: normal;white-space: pre;background: #fff0;line-height: 1.1;font-family: &quot;Courier New&quot;,Courier,monospace\">     ┌────────────┐┌─┐\n",
       "  q: ┤ U3(π,0,-π) ├┤M├\n",
       "     └────────────┘└╥┘\n",
       "c: 1/═══════════════╩═\n",
       "                    0 </pre>"
      ],
      "text/plain": [
       "     ┌────────────┐┌─┐\n",
       "  q: ┤ U3(π,0,-π) ├┤M├\n",
       "     └────────────┘└╥┘\n",
       "c: 1/═══════════════╩═\n",
       "                    0 "
      ]
     },
     "execution_count": 80,
     "metadata": {},
     "output_type": "execute_result"
    }
   ],
   "source": [
    "\n",
    "qc.measure([0],[0])\n",
    "sim_noise = AerSimulator(noise_model=noise_bit_flip)\n",
    "\n",
    "# Transpile circuit for noisy basis gates\n",
    "circ_tnoise = transpile(qc, sim_noise)\n",
    "circ_tnoise.draw()\n",
    "# Run and get counts\n",
    "#result_bit_flip = sim_noise.run(circ_tnoise).result()\n",
    "#counts_bit_flip = result_bit_flip.get_counts(0)\n",
    "\n",
    "# Plot noisy output\n",
    "#plot_histogram(counts_bit_flip)"
   ]
  },
  {
   "cell_type": "code",
   "execution_count": 81,
   "id": "ca0483d9",
   "metadata": {},
   "outputs": [
    {
     "data": {
      "image/png": "[encoded data removed]",
      "text/plain": [
       "<Figure size 504x360 with 1 Axes>"
      ]
     },
     "execution_count": 81,
     "metadata": {},
     "output_type": "execute_result"
    }
   ],
   "source": [
    "result_bit_flip = sim_noise.run(circ_tnoise).result()\n",
    "counts_bit_flip = result_bit_flip.get_counts(0)\n",
    "\n",
    "plot_histogram(counts_bit_flip)"
   ]
  },
  {
   "cell_type": "code",
   "execution_count": 82,
   "id": "b6d3fa04",
   "metadata": {},
   "outputs": [
    {
     "name": "stdout",
     "output_type": "stream",
     "text": [
      "\n",
      "no. of counts of no bit flip: 930\n",
      "no. of counts of bit flip: 94\n",
      "\n",
      "experimental error(%)= 9.1796875 %\n",
      "theoretical error(%)= 10.0 %\n"
     ]
    }
   ],
   "source": [
    "counts = result_bit_flip.get_counts(qc)\n",
    "c1=counts['1']\n",
    "c0=1024-c1\n",
    "exp =(c1/1024)*100\n",
    "theo=(p_gate1)*100\n",
    "print(\"\\nno. of counts of no bit flip:\",c0)\n",
    "print(\"no. of counts of bit flip:\",c1)\n",
    "print(\"\\nexperimental error(%)=\",exp,'%')\n",
    "print(\"theoretical error(%)=\",theo,'%')"
   ]
  },
  {
   "cell_type": "markdown",
   "id": "984ad5e7",
   "metadata": {},
   "source": [
    "# Error Correction Code"
   ]
  },
  {
   "cell_type": "code",
   "execution_count": 83,
   "id": "53416bc3",
   "metadata": {},
   "outputs": [
    {
     "data": {
      "text/html": [
       "<pre style=\"word-wrap: normal;white-space: pre;background: #fff0;line-height: 1.1;font-family: &quot;Courier New&quot;,Courier,monospace\">               \n",
       "q_0: ──■────■──\n",
       "     ┌─┴─┐  │  \n",
       "q_1: ┤ X ├──┼──\n",
       "     └───┘┌─┴─┐\n",
       "q_2: ─────┤ X ├\n",
       "          └───┘\n",
       "q_3: ──────────\n",
       "               \n",
       "q_4: ──────────\n",
       "               \n",
       "c: 5/══════════\n",
       "               </pre>"
      ],
      "text/plain": [
       "               \n",
       "q_0: ──■────■──\n",
       "     ┌─┴─┐  │  \n",
       "q_1: ┤ X ├──┼──\n",
       "     └───┘┌─┴─┐\n",
       "q_2: ─────┤ X ├\n",
       "          └───┘\n",
       "q_3: ──────────\n",
       "               \n",
       "q_4: ──────────\n",
       "               \n",
       "c: 5/══════════\n",
       "               "
      ]
     },
     "execution_count": 83,
     "metadata": {},
     "output_type": "execute_result"
    }
   ],
   "source": [
    "from qiskit import QuantumRegister, ClassicalRegister, QuantumCircuit\n",
    "\n",
    "#encoding qubit in 3 qubits\n",
    "#note-4th and 5th qubits are the ancillary qubits and 1st qubit(q_0) is the test qubit\n",
    "\n",
    "\n",
    "q = QuantumRegister(5, 'q')\n",
    "c=ClassicalRegister(5,'c')\n",
    "\n",
    "qc1=QuantumCircuit(q,c)\n",
    "qc1.cx(0,1)\n",
    "qc1.cx(0,2)\n",
    "\n",
    "qc1.draw()"
   ]
  },
  {
   "cell_type": "code",
   "execution_count": 84,
   "id": "074dfbb2",
   "metadata": {},
   "outputs": [
    {
     "data": {
      "text/html": [
       "<pre style=\"word-wrap: normal;white-space: pre;background: #fff0;line-height: 1.1;font-family: &quot;Courier New&quot;,Courier,monospace\">     ┌────────────┐\n",
       "q_0: ┤ U3(π,0,-π) ├\n",
       "     ├────────────┤\n",
       "q_1: ┤ U3(π,0,-π) ├\n",
       "     ├────────────┤\n",
       "q_2: ┤ U3(π,0,-π) ├\n",
       "     └────────────┘\n",
       "q_3: ──────────────\n",
       "                   \n",
       "q_4: ──────────────\n",
       "                   \n",
       "c: 5/══════════════\n",
       "                   </pre>"
      ],
      "text/plain": [
       "     ┌────────────┐\n",
       "q_0: ┤ U3(π,0,-π) ├\n",
       "     ├────────────┤\n",
       "q_1: ┤ U3(π,0,-π) ├\n",
       "     ├────────────┤\n",
       "q_2: ┤ U3(π,0,-π) ├\n",
       "     └────────────┘\n",
       "q_3: ──────────────\n",
       "                   \n",
       "q_4: ──────────────\n",
       "                   \n",
       "c: 5/══════════════\n",
       "                   "
      ]
     },
     "execution_count": 84,
     "metadata": {},
     "output_type": "execute_result"
    }
   ],
   "source": [
    "#Adding noisy bit flip channels\n",
    "\n",
    "qc2=QuantumCircuit(q,c)\n",
    "qc2.x(0)\n",
    "qc2.x(1)\n",
    "qc2.x(2)\n",
    "sim_noise = AerSimulator(noise_model=noise_bit_flip)\n",
    "\n",
    "# Transpile circuit for noisy basis gates\n",
    "circ_tnoise = transpile(qc2, sim_noise)\n",
    "circ_tnoise.draw()"
   ]
  },
  {
   "cell_type": "code",
   "execution_count": 85,
   "id": "b7d478cf",
   "metadata": {},
   "outputs": [
    {
     "data": {
      "text/html": [
       "<pre style=\"word-wrap: normal;white-space: pre;background: #fff0;line-height: 1.1;font-family: &quot;Courier New&quot;,Courier,monospace\">                                               ┌───┐  \n",
       "q_0: ──■─────────■─────────────────────────────┤ X ├──\n",
       "       │         │                      ┌───┐  └─╥─┘  \n",
       "q_1: ──┼────■────┼──────────────────────┤ X ├────╫────\n",
       "       │    │    │              ┌───┐   └─╥─┘    ║    \n",
       "q_2: ──┼────┼────┼────■─────────┤ X ├─────╫──────╫────\n",
       "     ┌─┴─┐┌─┴─┐  │    │  ┌─┐    └─╥─┘     ║      ║    \n",
       "q_3: ┤ X ├┤ X ├──┼────┼──┤M├──────╫───────╫──────╫────\n",
       "     └───┘└───┘┌─┴─┐┌─┴─┐└╥┘┌─┐   ║       ║      ║    \n",
       "q_4: ──────────┤ X ├┤ X ├─╫─┤M├───╫───────╫──────╫────\n",
       "               └───┘└───┘ ║ └╥┘┌──╨───┐┌──╨──┐┌──╨───┐\n",
       "c: 5/═════════════════════╩══╩═╡ 0x10 ╞╡ 0x8 ╞╡ 0x18 ╞\n",
       "                          3  4 └──────┘└─────┘└──────┘</pre>"
      ],
      "text/plain": [
       "                                               ┌───┐  \n",
       "q_0: ──■─────────■─────────────────────────────┤ X ├──\n",
       "       │         │                      ┌───┐  └─╥─┘  \n",
       "q_1: ──┼────■────┼──────────────────────┤ X ├────╫────\n",
       "       │    │    │              ┌───┐   └─╥─┘    ║    \n",
       "q_2: ──┼────┼────┼────■─────────┤ X ├─────╫──────╫────\n",
       "     ┌─┴─┐┌─┴─┐  │    │  ┌─┐    └─╥─┘     ║      ║    \n",
       "q_3: ┤ X ├┤ X ├──┼────┼──┤M├──────╫───────╫──────╫────\n",
       "     └───┘└───┘┌─┴─┐┌─┴─┐└╥┘┌─┐   ║       ║      ║    \n",
       "q_4: ──────────┤ X ├┤ X ├─╫─┤M├───╫───────╫──────╫────\n",
       "               └───┘└───┘ ║ └╥┘┌──╨───┐┌──╨──┐┌──╨───┐\n",
       "c: 5/═════════════════════╩══╩═╡ 0x10 ╞╡ 0x8 ╞╡ 0x18 ╞\n",
       "                          3  4 └──────┘└─────┘└──────┘"
      ]
     },
     "execution_count": 85,
     "metadata": {},
     "output_type": "execute_result"
    }
   ],
   "source": [
    "from qiskit.circuit import QuantumCircuit, Qubit, Clbit\n",
    "\n",
    "#error syndrome detection\n",
    "\n",
    "qc3=QuantumCircuit(q,c)\n",
    "qc3.cx(0,3)\n",
    "qc3.cx(1,3)\n",
    "qc3.cx(0,4)\n",
    "qc3.cx(2,4)\n",
    "\n",
    "qc3.measure([3,4],[3,4])\n",
    "qc3.x(q[2]).c_if(c,16)\n",
    "qc3.x(q[1]).c_if(c,8)\n",
    "qc3.x(q[0]).c_if(c,24)\n",
    "qc3.draw()"
   ]
  },
  {
   "cell_type": "code",
   "execution_count": 86,
   "id": "7886637a",
   "metadata": {},
   "outputs": [
    {
     "data": {
      "text/plain": [
       "<qiskit.circuit.instructionset.InstructionSet at 0x287ea1ac580>"
      ]
     },
     "execution_count": 86,
     "metadata": {},
     "output_type": "execute_result"
    }
   ],
   "source": [
    "#decoding the 3 qubits\n",
    "\n",
    "qc4=QuantumCircuit(q,c)\n",
    "qc4.cx(0,1)\n",
    "qc4.cx(0,2)"
   ]
  },
  {
   "cell_type": "code",
   "execution_count": 87,
   "id": "39345033",
   "metadata": {},
   "outputs": [
    {
     "name": "stderr",
     "output_type": "stream",
     "text": [
      "C:\\Users\\prate\\AppData\\Local\\Temp\\ipykernel_69532\\3789997989.py:3: DeprecationWarning: The QuantumCircuit.__add__() method is being deprecated.Use the compose() method which is more flexible w.r.t circuit register compatibility.\n",
      "  qc5=qc1+circ_tnoise+qc3+qc4\n"
     ]
    },
    {
     "data": {
      "text/html": [
       "<pre style=\"word-wrap: normal;white-space: pre;background: #fff0;line-height: 1.1;font-family: &quot;Courier New&quot;,Courier,monospace\">               ┌────────────┐                                          ┌───┐  »\n",
       "q_0: ──■────■──┤ U3(π,0,-π) ├──■─────────■─────────────────────────────┤ X ├──»\n",
       "     ┌─┴─┐  │  ├────────────┤  │         │                      ┌───┐  └─╥─┘  »\n",
       "q_1: ┤ X ├──┼──┤ U3(π,0,-π) ├──┼────■────┼──────────────────────┤ X ├────╫────»\n",
       "     └───┘┌─┴─┐├────────────┤  │    │    │              ┌───┐   └─╥─┘    ║    »\n",
       "q_2: ─────┤ X ├┤ U3(π,0,-π) ├──┼────┼────┼────■─────────┤ X ├─────╫──────╫────»\n",
       "          └───┘└────────────┘┌─┴─┐┌─┴─┐  │    │  ┌─┐    └─╥─┘     ║      ║    »\n",
       "q_3: ────────────────────────┤ X ├┤ X ├──┼────┼──┤M├──────╫───────╫──────╫────»\n",
       "                             └───┘└───┘┌─┴─┐┌─┴─┐└╥┘┌─┐   ║       ║      ║    »\n",
       "q_4: ──────────────────────────────────┤ X ├┤ X ├─╫─┤M├───╫───────╫──────╫────»\n",
       "                                       └───┘└───┘ ║ └╥┘┌──╨───┐┌──╨──┐┌──╨───┐»\n",
       "c: 5/═════════════════════════════════════════════╩══╩═╡ 0x10 ╞╡ 0x8 ╞╡ 0x18 ╞»\n",
       "                                                  3  4 └──────┘└─────┘└──────┘»\n",
       "«               \n",
       "«q_0: ──■────■──\n",
       "«     ┌─┴─┐  │  \n",
       "«q_1: ┤ X ├──┼──\n",
       "«     └───┘┌─┴─┐\n",
       "«q_2: ─────┤ X ├\n",
       "«          └───┘\n",
       "«q_3: ──────────\n",
       "«               \n",
       "«q_4: ──────────\n",
       "«               \n",
       "«c: 5/══════════\n",
       "«               </pre>"
      ],
      "text/plain": [
       "               ┌────────────┐                                          ┌───┐  »\n",
       "q_0: ──■────■──┤ U3(π,0,-π) ├──■─────────■─────────────────────────────┤ X ├──»\n",
       "     ┌─┴─┐  │  ├────────────┤  │         │                      ┌───┐  └─╥─┘  »\n",
       "q_1: ┤ X ├──┼──┤ U3(π,0,-π) ├──┼────■────┼──────────────────────┤ X ├────╫────»\n",
       "     └───┘┌─┴─┐├────────────┤  │    │    │              ┌───┐   └─╥─┘    ║    »\n",
       "q_2: ─────┤ X ├┤ U3(π,0,-π) ├──┼────┼────┼────■─────────┤ X ├─────╫──────╫────»\n",
       "          └───┘└────────────┘┌─┴─┐┌─┴─┐  │    │  ┌─┐    └─╥─┘     ║      ║    »\n",
       "q_3: ────────────────────────┤ X ├┤ X ├──┼────┼──┤M├──────╫───────╫──────╫────»\n",
       "                             └───┘└───┘┌─┴─┐┌─┴─┐└╥┘┌─┐   ║       ║      ║    »\n",
       "q_4: ──────────────────────────────────┤ X ├┤ X ├─╫─┤M├───╫───────╫──────╫────»\n",
       "                                       └───┘└───┘ ║ └╥┘┌──╨───┐┌──╨──┐┌──╨───┐»\n",
       "c: 5/═════════════════════════════════════════════╩══╩═╡ 0x10 ╞╡ 0x8 ╞╡ 0x18 ╞»\n",
       "                                                  3  4 └──────┘└─────┘└──────┘»\n",
       "«               \n",
       "«q_0: ──■────■──\n",
       "«     ┌─┴─┐  │  \n",
       "«q_1: ┤ X ├──┼──\n",
       "«     └───┘┌─┴─┐\n",
       "«q_2: ─────┤ X ├\n",
       "«          └───┘\n",
       "«q_3: ──────────\n",
       "«               \n",
       "«q_4: ──────────\n",
       "«               \n",
       "«c: 5/══════════\n",
       "«               "
      ]
     },
     "execution_count": 87,
     "metadata": {},
     "output_type": "execute_result"
    }
   ],
   "source": [
    "#Full circuit of bit 3-qubit bit flip correction\n",
    "\n",
    "qc5=qc1+circ_tnoise+qc3+qc4\n",
    "qc5.draw()"
   ]
  },
  {
   "cell_type": "code",
   "execution_count": 88,
   "id": "942a6723",
   "metadata": {},
   "outputs": [
    {
     "data": {
      "image/png": "[encoded data removed]",
      "text/plain": [
       "<Figure size 504x360 with 1 Axes>"
      ]
     },
     "execution_count": 88,
     "metadata": {},
     "output_type": "execute_result"
    }
   ],
   "source": [
    "qc5.measure([0,1,2,3,4],[0,1,2,3,4])\n",
    "sim_noise = AerSimulator(noise_model=noise_bit_flip)\n",
    "\n",
    "# Transpile circuit for noisy basis gates\n",
    "\n",
    "result_bit_flip = sim_noise.run(qc5).result()\n",
    "counts_bit_flip = result_bit_flip.get_counts(0)\n",
    "\n",
    "plot_histogram(counts_bit_flip)\n",
    "#last qubit is the test qubit"
   ]
  },
  {
   "cell_type": "code",
   "execution_count": 89,
   "id": "61f22e0b",
   "metadata": {},
   "outputs": [
    {
     "name": "stdout",
     "output_type": "stream",
     "text": [
      "counts of each state after 1024 shots {'10001': 12, '11001': 8, '01000': 56, '00000': 770, '00001': 3, '10000': 82, '01001': 6, '11000': 87}\n",
      "\n",
      "no. of counts of no bit flip: 995\n",
      "no. of counts of bit flip: 29\n"
     ]
    }
   ],
   "source": [
    "counts = result_bit_flip.get_counts(qc5)\n",
    "print(\"counts of each state after 1024 shots\",counts)\n",
    "if '00001' in counts:\n",
    " c1=counts['11001']+counts['01001']+counts['10001']+counts['00001']\n",
    "else:\n",
    "    c1=counts['11001']+counts['01001']+counts['10001']\n",
    "#c1 tells the total counts of the states where the last qubit is 1(bit flip)\n",
    "#c0 tells the total counts of the states where the last qubit is 0(no bit flip)\n",
    "#if else conditions have been added because sometimes '00001' is not in histogram\n",
    "c0=1024-c1\n",
    "print(\"\\nno. of counts of no bit flip:\",c0)\n",
    "print(\"no. of counts of bit flip:\",c1)\n"
   ]
  },
  {
   "cell_type": "code",
   "execution_count": 90,
   "id": "e7aed372",
   "metadata": {},
   "outputs": [
    {
     "name": "stdout",
     "output_type": "stream",
     "text": [
      "experimental error(%)= 2.83203125 %\n",
      "theoretical error(%)= 2.8000000000000003 %\n"
     ]
    }
   ],
   "source": [
    "exp =(c1/1024)*100\n",
    "theo=(3*(p_gate1)**(2)-2*(p_gate1)**(3))*100\n",
    "print(\"experimental error(%)=\",exp,'%')\n",
    "print(\"theoretical error(%)=\",theo,'%')"
   ]
  }
 ],
 "metadata": {
  "kernelspec": {
   "display_name": "Python 3",
   "language": "python",
   "name": "python3"
  },
  "language_info": {
   "codemirror_mode": {
    "name": "ipython",
    "version": 3
   },
   "file_extension": ".py",
   "mimetype": "text/x-python",
   "name": "python",
   "nbconvert_exporter": "python",
   "pygments_lexer": "ipython3",
   "version": "3.10.4"
  }
 },
 "nbformat": 4,
 "nbformat_minor": 5
}
